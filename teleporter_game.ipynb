{
 "cells": [
  {
   "cell_type": "code",
   "execution_count": 4,
   "metadata": {},
   "outputs": [
    {
     "name": "stdout",
     "output_type": "stream",
     "text": [
      "1\n",
      "1 1 1 1 1\n"
     ]
    }
   ],
   "source": [
    "def find_kingdoms(n, teleporters):\n",
    "    parent = [i for i in range(n+1)]\n",
    "\n",
    "    def find(x):\n",
    "        if parent[x] != x:\n",
    "            parent[x] = find(parent[x])\n",
    "        return parent[x]\n",
    "\n",
    "    def union(x, y):\n",
    "        x_root = find(x)\n",
    "        y_root = find(y)\n",
    "        if x_root != y_root:\n",
    "            parent[y_root] = x_root\n",
    "\n",
    "    for a, b in teleporters:\n",
    "        union(a, b)\n",
    "\n",
    "    return len(set(find(i) for i in range(1, n+1))), [find(i) for i in range(1, n+1)]\n",
    "\n",
    "# Example usage\n",
    "n = 5\n",
    "teleporters = [(1, 2), (2, 3), (3, 1), (3, 4), (4, 5), (5, 4)]\n",
    "\n",
    "num_kingdoms, planet_kingdoms = find_kingdoms(n, teleporters)\n",
    "\n",
    "print(num_kingdoms)\n",
    "print(*planet_kingdoms)\n"
   ]
  },
  {
   "cell_type": "code",
   "execution_count": null,
   "metadata": {},
   "outputs": [],
   "source": []
  }
 ],
 "metadata": {
  "kernelspec": {
   "display_name": "Python 3",
   "language": "python",
   "name": "python3"
  },
  "language_info": {
   "codemirror_mode": {
    "name": "ipython",
    "version": 3
   },
   "file_extension": ".py",
   "mimetype": "text/x-python",
   "name": "python",
   "nbconvert_exporter": "python",
   "pygments_lexer": "ipython3",
   "version": "3.11.2"
  }
 },
 "nbformat": 4,
 "nbformat_minor": 2
}
